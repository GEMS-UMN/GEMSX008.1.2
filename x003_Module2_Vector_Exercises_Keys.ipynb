{
 "cells": [
  {
   "cell_type": "markdown",
   "id": "0b1f18f1-151b-4ab4-995f-7ffda8fbcb53",
   "metadata": {
    "tags": []
   },
   "source": [
    "# **Module 2: Vector Data in Python**"
   ]
  },
  {
   "cell_type": "code",
   "execution_count": null,
   "id": "25eea2b7-a892-4e03-9a1b-c98829707f3c",
   "metadata": {},
   "outputs": [],
   "source": [
    "import matplotlib.pyplot as plt\n",
    "from shapely.geometry.polygon import Point, LineString, Polygon\n",
    "import geopandas as gpd\n",
    "import pandas as pd\n",
    "import seaborn as sns\n",
    "import random\n",
    "import numpy as np\n",
    "sns.set_style(\"whitegrid\")"
   ]
  },
  {
   "cell_type": "markdown",
   "id": "69fe5cff-e429-4aa0-bd0f-6c445b053abc",
   "metadata": {},
   "source": [
    "## **Exercices**\n",
    "### Data\n",
    "- `gw_provinces_extra.shp` - Minnesota Groundwater Provinces shapefile;\n",
    "- `mn_rivers.shp` - Minnesota river shapefile;\n",
    "- `soil_samp.shp` - Soil temperature stations shapefile."
   ]
  },
  {
   "cell_type": "markdown",
   "id": "e86cdfda-e904-4258-865b-79af4ef7ee29",
   "metadata": {},
   "source": [
    "**Question 1. Find and plot all groundwater provinces in Minnesota that have `var1` equal to `\"a\"` and `var3` greater than 100.**"
   ]
  },
  {
   "cell_type": "code",
   "execution_count": null,
   "id": "1d663b92-c08b-4eda-a45d-5254f967dcc5",
   "metadata": {},
   "outputs": [],
   "source": [
    "gw_provinces_extra_gdf = gpd.read_file(\"./data-module-2/gw_provinces_extra.shp\")\n",
    "subset = gw_provinces_extra_gdf[(gw_provinces_extra_gdf.var1 == \"a\")&(gw_provinces_extra_gdf.var3 > 100)]\n",
    "fig, ax = plt.subplots(figsize=(14,7))\n",
    "gw_provinces_extra_gdf.plot(ax=ax, color=\"whitesmoke\", edgecolor=\"grey\")\n",
    "subset.plot(ax=ax, color=\"palegreen\", edgecolor=\"grey\")"
   ]
  },
  {
   "cell_type": "markdown",
   "id": "25c9f369-bf5e-43b2-b53c-48368c534adb",
   "metadata": {
    "jp-MarkdownHeadingCollapsed": true,
    "tags": []
   },
   "source": [
    "**Question 2. Create a simple `DataFrame` with the following code:**\n",
    "```r\n",
    "random.seed(0) \n",
    "data = {\"ProvID\": list(range(1,7)),\n",
    "        \"var4\":[\"yes\", \"no\", \"no\", \"yes\", \"np\", \"yes\"],\n",
    "        \"var5\": random.sample(range(10, 50), 6)}\n",
    "gw_prov_df = pd.DataFrame(data)\n",
    "```\n",
    "**Merge `gw_provinces_extra_gdf` with `gw_prov_df` into a new object called `gw_prov_stats`. Which columns were used as keys for join? Pay attention to the data type of these columns.**"
   ]
  },
  {
   "cell_type": "code",
   "execution_count": null,
   "id": "8beebde4-31f2-4b78-8689-4c64f66dede4",
   "metadata": {},
   "outputs": [],
   "source": [
    "random.seed(0) \n",
    "data = {\"ProvID\": list(range(1,7)),\n",
    "        \"var4\": [\"yes\", \"no\", \"no\", \"yes\", \"np\", \"yes\"],\n",
    "        \"var5\": random.sample(range(10, 50), 6)}\n",
    "gw_prov_df = pd.DataFrame(data)\n",
    "gw_prov_df"
   ]
  },
  {
   "cell_type": "code",
   "execution_count": null,
   "id": "3ad87162-c3ae-402e-b188-4a45a95e503c",
   "metadata": {},
   "outputs": [],
   "source": [
    "gw_provinces_extra_gdf.head()"
   ]
  },
  {
   "cell_type": "code",
   "execution_count": null,
   "id": "530a45f8-4337-4ac7-82dc-468b42ebacf8",
   "metadata": {},
   "outputs": [],
   "source": [
    "print (\"dtype from df is \", gw_provinces_extra_gdf[\"PROVINCE\"].dtype)\n",
    "print (\"dtype from gdf is \", gw_prov_df[\"ProvID\"].dtype)"
   ]
  },
  {
   "cell_type": "code",
   "execution_count": null,
   "id": "eeb3933d-b2a2-456f-ba3e-ad0aeb228571",
   "metadata": {},
   "outputs": [],
   "source": [
    "gw_provinces_extra_gdf[\"PROVINCE\"] = gw_provinces_extra_gdf[\"PROVINCE\"].astype(int)\n",
    "gw_prov_stats = gw_provinces_extra_gdf.merge(gw_prov_df, left_on=\"PROVINCE\", right_on=\"ProvID\")\n",
    "gw_prov_stats.head()"
   ]
  },
  {
   "cell_type": "markdown",
   "id": "92624760-0ee4-4be6-ad8e-8f6fba93e212",
   "metadata": {},
   "source": [
    "**Question 3. Dissolve `var3` as `sum` by `var1`.**"
   ]
  },
  {
   "cell_type": "code",
   "execution_count": null,
   "id": "589e4b32-b6c9-4698-bf72-241986c37744",
   "metadata": {},
   "outputs": [],
   "source": [
    "gw_provinces_extra_gdf_agg = gw_provinces_extra_gdf[[\"var3\", \"geometry\", \"var1\"]].dissolve(by=\"var1\", aggfunc=\"sum\")\n",
    "gw_provinces_extra_gdf_agg"
   ]
  },
  {
   "cell_type": "markdown",
   "id": "72682cd4-50bc-4850-8215-bc9be358625b",
   "metadata": {},
   "source": [
    "**Question 4. Find and plot the rivers found (even partially) in groundwater PROVINCE 5.**"
   ]
  },
  {
   "cell_type": "code",
   "execution_count": null,
   "id": "a10a0969-3c47-4b4d-a3ee-54674d305684",
   "metadata": {},
   "outputs": [],
   "source": [
    "mn_rivers_gdf = gpd.read_file(\"./data-module-2/mn_rivers.shp\")\n",
    "province5 = gw_provinces_extra_gdf[(gw_provinces_extra_gdf.PROVINCE == 5)]\n",
    "rivers5 = gpd.sjoin(mn_rivers_gdf, province5, predicate=\"intersects\")"
   ]
  },
  {
   "cell_type": "code",
   "execution_count": null,
   "id": "749458aa-c46f-46dc-aa70-86b0ecfda0ff",
   "metadata": {},
   "outputs": [],
   "source": [
    "fig, axs = plt.subplots(1,2, figsize=(9,9))\n",
    "gw_provinces_extra_gdf.plot(ax=axs[0], edgecolor=\"dimgrey\", facecolor=\"whitesmoke\")\n",
    "mn_rivers_gdf.plot(ax=axs[0], edgecolor=\"skyblue\")\n",
    "axs[0].set_title(\"Rivers in Minnesota\", weight=\"bold\")\n",
    "gw_provinces_extra_gdf.plot(ax=axs[1], edgecolor=\"dimgrey\", facecolor=\"whitesmoke\")\n",
    "province5.plot(ax=axs[1], edgecolor=\"dimgrey\", facecolor=\"lightgrey\")\n",
    "rivers5.plot(ax=axs[1], edgecolor=\"skyblue\")\n",
    "axs[1].set_title(\"Rivers in Minnesota, PROVINCE 5\", weight=\"bold\")\n",
    "plt.tight_layout()"
   ]
  },
  {
   "cell_type": "markdown",
   "id": "d6d09df7-dcdb-4d81-9e65-aa0c6789c2de",
   "metadata": {},
   "source": [
    "**Question 5. Which groundwater province does the Lamberton (soil sample) site located in?**"
   ]
  },
  {
   "cell_type": "code",
   "execution_count": null,
   "id": "7b6b9a55-3676-46de-838e-d8cead3dc4f8",
   "metadata": {},
   "outputs": [],
   "source": [
    "mda_gdf = gpd.read_file(\"./data-module-2/soil_samp.shp\")\n",
    "lamberton = mda_gdf[(mda_gdf.name == \"Lamberton\")]\n",
    "lamberton_in_prov = gpd.sjoin(lamberton, gw_provinces_extra_gdf, predicate=\"within\")\n",
    "lamberton_in_prov"
   ]
  },
  {
   "cell_type": "markdown",
   "id": "1fd6f9dc-fd20-436d-8851-8c38248632b0",
   "metadata": {},
   "source": [
    "**Question 6. Find the soil sample sites that are within 10 km of the Mississippi river.**"
   ]
  },
  {
   "cell_type": "code",
   "execution_count": null,
   "id": "e4e72910-a88a-414f-9de5-1dfbdfb483b2",
   "metadata": {},
   "outputs": [],
   "source": [
    "mississippi = mn_rivers_gdf[(mn_rivers_gdf.KITTLE_NAM == \"Mississippi River\")]\n",
    "mississippi_buffer = mississippi.copy()\n",
    "mississippi_buffer[\"geometry\"] = mississippi.buffer(10000)\n",
    "mda_gdf_within_miss = gpd.sjoin(mda_gdf, mississippi_buffer, predicate=\"within\")\n",
    "mda_gdf_within_miss"
   ]
  },
  {
   "cell_type": "markdown",
   "id": "1f63a988-0818-41ff-b440-7d6011808266",
   "metadata": {},
   "source": [
    "**Question 7. Find 10-km buffer for Mississippi river, the centroid for Mississippi river, and Mississippi river segments that overlap PROVINCE 4 (use `overlay` operation). Display results on a figure with 3 subplots.**"
   ]
  },
  {
   "cell_type": "code",
   "execution_count": null,
   "id": "35cdc567-0a59-45ea-b303-dc35a3e8ee9d",
   "metadata": {},
   "outputs": [],
   "source": [
    "mississippi_centroid = mississippi.copy()\n",
    "mississippi_centroid[\"geometry\"] = mississippi.centroid\n",
    "province4 = gw_provinces_extra_gdf[(gw_provinces_extra_gdf.PROVINCE == 4)]\n",
    "mississippi_segments = gpd.overlay(mississippi, province4)"
   ]
  },
  {
   "cell_type": "code",
   "execution_count": null,
   "id": "21f78c5b-7e47-4970-a59f-4e7854c7c88c",
   "metadata": {},
   "outputs": [],
   "source": [
    "fig, axs = plt.subplots(1,3, figsize=(12,8))\n",
    "mississippi.plot(ax=axs[0], edgecolor=\"skyblue\")\n",
    "mississippi_buffer.plot(ax=axs[0], color=\"red\")\n",
    "axs[0].set_title(\"Mississippi 10-km buffer\", weight=\"bold\")\n",
    "mississippi.plot(ax=axs[1], edgecolor=\"skyblue\")\n",
    "mississippi_centroid.plot(ax=axs[1], color=\"red\")\n",
    "axs[1].set_title(\"Mississippi centroid\", weight=\"bold\")\n",
    "mississippi.plot(ax=axs[2], edgecolor=\"skyblue\")\n",
    "mississippi_segments.plot(ax=axs[2], color=\"red\")\n",
    "axs[2].set_title(\"Mississippi in PROVINCE 4\", weight=\"bold\")"
   ]
  },
  {
   "cell_type": "code",
   "execution_count": null,
   "id": "0f360ef6-7d90-4a03-9e8b-a889bf561557",
   "metadata": {},
   "outputs": [],
   "source": []
  }
 ],
 "metadata": {
  "kernelspec": {
   "display_name": "Python 3 (ipykernel)",
   "language": "python",
   "name": "python3"
  },
  "language_info": {
   "codemirror_mode": {
    "name": "ipython",
    "version": 3
   },
   "file_extension": ".py",
   "mimetype": "text/x-python",
   "name": "python",
   "nbconvert_exporter": "python",
   "pygments_lexer": "ipython3",
   "version": "3.9.12"
  }
 },
 "nbformat": 4,
 "nbformat_minor": 5
}
