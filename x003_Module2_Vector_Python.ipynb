{
 "cells": [
  {
   "cell_type": "markdown",
   "id": "0b1f18f1-151b-4ab4-995f-7ffda8fbcb53",
   "metadata": {
    "tags": []
   },
   "source": [
    "# **Module 2: Vector Data in Python**\n",
    "## **Prerequisites**\n",
    "### Data\n",
    "In this example, we will use the following datasets (exported from `spData` R package):  \n",
    "- `world.shp` - World country polygons;\n",
    "- `coffee_data.csv` - World coffee production statistics by country, 2016 and 2017.\n",
    "- `nz.shp` - The regions of New Zealand;\n",
    "- `nz_height.shp` - High points in New Zealand;\n",
    "- `seine.shp` - River network in France;\n",
    "\n",
    "Additionally, one dataset was derived ‍the HydroSHEDS database https://www.hydrosheds.org/:\n",
    "- `lakes.shp` - selected lakes in Eastern Africa.\n",
    "\n",
    "### Software\n",
    "To execute the code you will need a `conda` environment for Python with the packages imported below."
   ]
  },
  {
   "cell_type": "code",
   "execution_count": null,
   "id": "32718212-fe98-46c0-a916-530a54b05b55",
   "metadata": {},
   "outputs": [],
   "source": [
    "import matplotlib.pyplot as plt\n",
    "from shapely.geometry import Point, LineString, Polygon\n",
    "import geopandas as gpd\n",
    "import pandas as pd\n",
    "import seaborn as sns\n",
    "import random\n",
    "import numpy as np\n",
    "sns.set_style(\"whitegrid\")"
   ]
  },
  {
   "cell_type": "markdown",
   "id": "3f0dd5d2-c124-4651-98f0-25773bfeba8c",
   "metadata": {},
   "source": [
    "## **Vector Data Review**\n",
    "\n",
    "Representation of the world using points, lines, and polygons\n",
    "\n",
    "- Point: a precise location in space (e.g., weather stations)\n",
    "- Line: a sequential collection of connected points (e.g., roads)\n",
    "- Polygon: a region enclosed by lines (e.g., countries)"
   ]
  },
  {
   "cell_type": "code",
   "execution_count": null,
   "id": "e872b92c-3b91-412e-8ef1-a0a920ed1265",
   "metadata": {},
   "outputs": [],
   "source": [
    "print (\"Below we create arbitrary shapes and plot them\")\n",
    "line1_x, lines1_y = LineString([(5, 5), (6, 6), (7, 10), (8, 11)]).xy\n",
    "plt.plot(line1_x, lines1_y, color=\"steelblue\")\n",
    "line2_x, lines2_y = LineString([(8, 14), (9, 12)]).xy\n",
    "plt.plot(line2_x, lines2_y, color=\"seagreen\")\n",
    "\n",
    "polygon = Polygon([(5, 7), (7, 3), (8, 4), (9, 8), (8, 9), (7, 15), (6, 14)])\n",
    "polygon_x, polygon_y = polygon.exterior.xy\n",
    "plt.fill(polygon_x, polygon_y, facecolor=\"khaki\", edgecolor=\"black\")\n",
    "\n",
    "points = [Point(6, 9), Point(9, 14), Point(8, 8), Point(8.5, 9)]\n",
    "points_x = [point.x for point in points]\n",
    "points_y = [point.y for point in points]\n",
    "plt.scatter(points_x, points_y, color=\"grey\")"
   ]
  },
  {
   "cell_type": "markdown",
   "id": "7e98cf6a-d2a6-4d71-a55c-096451481406",
   "metadata": {},
   "source": [
    "## **Attribute operations**"
   ]
  },
  {
   "cell_type": "code",
   "execution_count": null,
   "id": "bfd7c357-214b-4c91-9e6a-021d15f5bfd8",
   "metadata": {},
   "outputs": [],
   "source": [
    "world = gpd.read_file(\"./data-module-2/world.shp\")\n",
    "world.head()"
   ]
  },
  {
   "cell_type": "markdown",
   "id": "fce43367-09c3-4233-a0c3-d95d211c86bc",
   "metadata": {},
   "source": [
    "### Select by attributes"
   ]
  },
  {
   "cell_type": "code",
   "execution_count": null,
   "id": "6ba31cb7-86f7-490c-ae43-eb8c5e0e4f52",
   "metadata": {},
   "outputs": [],
   "source": [
    "midsized_countries = world[(world.area_km2 > 1000000)&(world.area_km2 < 5000000)]\n",
    "midsized_countries.head()"
   ]
  },
  {
   "cell_type": "code",
   "execution_count": null,
   "id": "8e38b7f1-c67b-4948-9068-3c0f2bb37513",
   "metadata": {},
   "outputs": [],
   "source": [
    "fig, axs = plt.subplots(2,1, figsize=(14,14))\n",
    "world.plot(ax=axs[0], column=\"iso_a2\", cmap=\"Pastel2\", edgecolor=\"grey\")\n",
    "axs[0].set_title(\"All countries\", weight=\"bold\")\n",
    "world.plot(ax=axs[1], color=\"whitesmoke\", edgecolor=\"grey\")\n",
    "midsized_countries.plot(ax=axs[1], facecolor=\"palevioletred\", edgecolor=\"grey\")\n",
    "axs[1].set_title(\"Mid-sized countries\", weight=\"bold\")"
   ]
  },
  {
   "cell_type": "markdown",
   "id": "0b3e69c6-a1e4-469b-8a41-1ce9d1faa22e",
   "metadata": {},
   "source": [
    "### Dissolve  by attributes"
   ]
  },
  {
   "cell_type": "code",
   "execution_count": null,
   "id": "e6402421-106a-4553-94b2-6bd1faccfe22",
   "metadata": {},
   "outputs": [],
   "source": [
    "continents = world[[\"continent\", \"geometry\", \"pop\"]].dissolve(by=\"continent\", aggfunc=\"sum\")\n",
    "continents"
   ]
  },
  {
   "cell_type": "code",
   "execution_count": null,
   "id": "f088ca44-95d0-4fb1-9516-80a41c5fc464",
   "metadata": {},
   "outputs": [],
   "source": [
    "fig, axs = plt.subplots(2,1, figsize=(14,14))\n",
    "world[\"pop\"] = world[\"pop\"].fillna(0)\n",
    "world.plot(ax=axs[0], column=\"pop\", legend=True, scheme=\"User_Defined\", cmap=\"YlOrBr\", \n",
    "           edgecolor=\"grey\", classification_kwds=dict(bins=[33000000,100000000,204000000,319000000]),\n",
    "           legend_kwds={\"labels\": [\"< 33 mln\", \"33 - 100 mln\", \"100 - 204 mln\", \n",
    "                                   \"204 - 319 mln\", \"> 319 mln\"], \"bbox_to_anchor\":(0.17, 0.4)})\n",
    "axs[0].set_title(\"Population by countries\", weight=\"bold\")\n",
    "axs[0].set_facecolor(\"powderblue\")\n",
    "continents.plot(ax=axs[1], column=\"pop\", cmap=\"afmhot_r\", edgecolor=\"grey\")\n",
    "continents.plot(ax=axs[1], column=\"pop\", legend=True, scheme=\"User_Defined\", cmap=\"YlOrBr\", \n",
    "           edgecolor=\"grey\", classification_kwds=dict(bins=[38000000,413000000,670000000,1155000000]),\n",
    "           legend_kwds={\"labels\": [\"< 38 mln\", \"38 - 413 mln\", \"413 - 670 mln\", \"670 - 1,155 mln\",\n",
    "                                   \"> 1,155 mln\"], \"bbox_to_anchor\":(0.18, 0.4)})\n",
    "axs[1].set_title(\"Population by continents\", weight=\"bold\")\n",
    "axs[1].set_facecolor(\"powderblue\")"
   ]
  },
  {
   "cell_type": "markdown",
   "id": "b30e9f96-c80b-4719-858b-caeec9500abf",
   "metadata": {},
   "source": [
    "### Join by attributes"
   ]
  },
  {
   "cell_type": "code",
   "execution_count": null,
   "id": "02a07f39-0a29-495f-a08f-9e857cd9c56a",
   "metadata": {},
   "outputs": [],
   "source": [
    "coffee_data = pd.read_csv(\"./data-module-2/coffee_data.csv\")\n",
    "coffee_data.head()"
   ]
  },
  {
   "cell_type": "code",
   "execution_count": null,
   "id": "c07c448e-a6cd-419f-94e6-155e782a4fb0",
   "metadata": {},
   "outputs": [],
   "source": [
    "world_coffee = world.merge(coffee_data, on=\"name_long\")\n",
    "world_coffee.head()"
   ]
  },
  {
   "cell_type": "markdown",
   "id": "9e3ac0f4-bb9b-4e15-8d7e-94e22cc08bff",
   "metadata": {},
   "source": [
    "**Additional information on merging tabular data can be found in the documentation:**  \n",
    "https://pandas.pydata.org/pandas-docs/stable/reference/api/pandas.merge.html"
   ]
  },
  {
   "cell_type": "code",
   "execution_count": null,
   "id": "937ea30d-8262-4dc4-b192-a9a5a29b6dfb",
   "metadata": {},
   "outputs": [],
   "source": [
    "fig, ax = plt.subplots(figsize=(14,7))\n",
    "world.plot(ax=ax, color=\"whitesmoke\", edgecolor=\"grey\")\n",
    "world_coffee.plot(ax=ax, column=\"coffee_production_2017\", cmap=\"copper_r\", edgecolor=\"grey\",\n",
    "                 scheme=\"FisherJenks\", legend=True)\n",
    "ax.set_facecolor(\"powderblue\")\n",
    "ax.set_title(\"2017 coffee production\", weight=\"bold\")"
   ]
  },
  {
   "cell_type": "markdown",
   "id": "a45de6ce-f5f0-46d3-ac69-8e00d255b197",
   "metadata": {},
   "source": [
    "## **Spatial operations**\n",
    "### Types of spatial relationships"
   ]
  },
  {
   "cell_type": "code",
   "execution_count": null,
   "id": "a7957c8f-944b-465a-8759-cc45fabf26a6",
   "metadata": {},
   "outputs": [],
   "source": [
    "print (\"Different types of relationships between spatial features\") \n",
    "polygon = Polygon([(-1, -1), (1, -1), (1, 1), (-1, -1)])\n",
    "polygon_x, polygon_y = polygon.exterior.xy\n",
    "points = [Point(0.5, 0), Point(1, 1), Point(0, 1), Point(-1, 0.5)]\n",
    "points_x = [point.x for point in points]\n",
    "points_y = [point.y for point in points]\n",
    "\n",
    "fig, axs = plt.subplots(2,2, figsize=(8,6))\n",
    "for ax in [(0,0), (0,1), (1,0), (1,1)]:\n",
    "    axs[ax].fill(polygon_x, polygon_y, facecolor=\"lightgray\", edgecolor=\"red\")\n",
    "    axs[ax].scatter(points_x, points_y, color=\"grey\")\n",
    "    annotations=[\"Point-1\",\"Point-2\",\"Point-3\",\"Point-4\"]\n",
    "    for i, label in enumerate(annotations):\n",
    "        axs[ax].annotate(label, (points_x[i]+0.03, points_y[i]+0.03))\n",
    "\n",
    "selected = [p for p in points if polygon.intersects(p)]\n",
    "selected_x = [p.x for p in selected]\n",
    "selected_y = [p.y for p in selected]\n",
    "axs[0,0].scatter(selected_x, selected_y, color=\"blue\")\n",
    "axs[0,0].set_title(\"Points intersecting the polygon\", weight=\"bold\")\n",
    "\n",
    "selected = [p for p in points if polygon.contains(p)]\n",
    "selected_x = [p.x for p in selected]\n",
    "selected_y = [p.y for p in selected]\n",
    "axs[0,1].scatter(selected_x, selected_y, color=\"blue\")\n",
    "axs[0,1].set_title(\"Poins contained within the polygon\", weight=\"bold\")\n",
    "\n",
    "selected = [p for p in points if polygon.touches(p)]\n",
    "selected_x = [p.x for p in selected]\n",
    "selected_y = [p.y for p in selected]\n",
    "axs[1,0].scatter(selected_x, selected_y, color=\"blue\")\n",
    "axs[1,0].set_title(\"Poins touching the polygon\", weight=\"bold\")\n",
    "\n",
    "selected = [p for p in points if polygon.distance(p)<=0.9]\n",
    "selected_x = [p.x for p in selected]\n",
    "selected_y = [p.y for p in selected]\n",
    "axs[1,1].scatter(selected_x, selected_y, color=\"blue\")\n",
    "axs[1,1].set_title(\"Poins within 0.9 distance to the polygon\", weight=\"bold\")\n",
    "plt.tight_layout()"
   ]
  },
  {
   "cell_type": "markdown",
   "id": "f62ba2f6-6e30-45d7-89f4-37d8a7a5137c",
   "metadata": {},
   "source": [
    "### Spatial joins (intersects)"
   ]
  },
  {
   "cell_type": "code",
   "execution_count": null,
   "id": "7381080c-d093-4ced-8b20-701001b6cf0c",
   "metadata": {},
   "outputs": [],
   "source": [
    "nz = gpd.read_file(\"./data-module-2/nz.shp\")\n",
    "nz_height = gpd.read_file(\"./data-module-2/nz_height.shp\")\n",
    "canterbury = nz[nz.Name == \"Canterbury\"]\n",
    "canterbury_height = gpd.sjoin(nz_height, canterbury, predicate=\"intersects\")"
   ]
  },
  {
   "cell_type": "markdown",
   "id": "da9efe83-597d-425b-8c97-9ff86f5a852c",
   "metadata": {},
   "source": [
    "**Additional information on spatial joins with `geopandas` can be found in the documentation:** \n",
    "- https://geopandas.org/en/stable/docs/reference/api/geopandas.sjoin.html\n",
    "- https://geopandas.org/en/stable/docs/user_guide/mergingdata.html"
   ]
  },
  {
   "cell_type": "code",
   "execution_count": null,
   "id": "05b9f326-a528-4838-a7b2-1ffa258b0d88",
   "metadata": {},
   "outputs": [],
   "source": [
    "fig, axs = plt.subplots(1,2, figsize=(9,9))\n",
    "nz.plot(ax=axs[0], edgecolor=\"dimgrey\", facecolor=\"whitesmoke\")\n",
    "nz_height.plot(ax=axs[0],color=\"red\")\n",
    "axs[0].set_title(\"High Points in New Zealand\", weight=\"bold\")\n",
    "axs[0].set_facecolor(\"powderblue\")\n",
    "nz.plot(ax=axs[1], edgecolor=\"dimgrey\", facecolor=\"whitesmoke\")\n",
    "canterbury.plot(ax=axs[1], edgecolor=\"dimgrey\", facecolor=\"lightgrey\")\n",
    "canterbury_height.plot(ax=axs[1], color=\"red\")\n",
    "axs[1].set_title(\"High Points in Canterbury\", weight=\"bold\")\n",
    "axs[1].set_facecolor(\"powderblue\")\n",
    "plt.tight_layout()"
   ]
  },
  {
   "cell_type": "markdown",
   "id": "c55596b8-b528-4fb6-a6e5-89b791cf0adf",
   "metadata": {},
   "source": [
    "### Spatial joins (within, contains)"
   ]
  },
  {
   "cell_type": "code",
   "execution_count": null,
   "id": "82b95e5a-19a6-418a-a3c8-602afaab0af0",
   "metadata": {},
   "outputs": [],
   "source": [
    "minx, miny, maxx, maxy = world.total_bounds\n",
    "random.seed(200)\n",
    "points = []\n",
    "while len(points) < 10:\n",
    "    pnt = Point(random.uniform(minx, maxx), random.uniform(miny, maxy))\n",
    "    if world.contains(pnt).any():\n",
    "        points.append(pnt)\n",
    "points_gpd = gpd.GeoDataFrame(geometry=points, crs=\"epsg:4326\")\n",
    "points_gpd"
   ]
  },
  {
   "cell_type": "code",
   "execution_count": null,
   "id": "e0700daa-7e01-4273-acc6-0827f8efc18d",
   "metadata": {},
   "outputs": [],
   "source": [
    "points_within_world = gpd.sjoin(points_gpd, world, predicate=\"within\")\n",
    "points_within_world.head()"
   ]
  },
  {
   "cell_type": "code",
   "execution_count": null,
   "id": "91be92df-873c-4489-b267-bcc9dd924e61",
   "metadata": {},
   "outputs": [],
   "source": [
    "world_with_points = gpd.sjoin(world, points_gpd, predicate=\"contains\")\n",
    "world_with_points.head()"
   ]
  },
  {
   "cell_type": "code",
   "execution_count": null,
   "id": "4d651f44-c403-4f06-b701-b07062434de5",
   "metadata": {},
   "outputs": [],
   "source": [
    "fig, axs = plt.subplots(2,1, figsize=(14,14))\n",
    "world.plot(ax=axs[0], edgecolor=\"slategrey\", facecolor=\"none\")\n",
    "points_within_world.plot(ax=axs[0], marker=\"*\", markersize=130, column=\"name_long\", legend=True, cmap=\"Paired\")\n",
    "axs[0].set_title(\"Random points within countries\", weight=\"bold\")\n",
    "world.plot(ax=axs[1], edgecolor=\"slategrey\", facecolor=\"none\")\n",
    "world_with_points.plot(ax=axs[1], column=\"name_long\", legend=True, cmap=\"Paired\")\n",
    "axs[1].set_title(\"Countries containing random points\", weight=\"bold\")"
   ]
  },
  {
   "cell_type": "markdown",
   "id": "f248447d-b767-4c89-a106-4835051bbabe",
   "metadata": {},
   "source": [
    "### Combining operations (spatial join + dissolve)"
   ]
  },
  {
   "cell_type": "code",
   "execution_count": null,
   "id": "5e948846-69bf-4a60-b840-6781e0d1d272",
   "metadata": {},
   "outputs": [],
   "source": [
    "nz_merged = gpd.sjoin(nz, nz_height, predicate=\"contains\")\n",
    "nz_merged = nz_merged[[\"Name\", \"geometry\", \"elevation\"]].dissolve(by=[\"Name\"], aggfunc=\"mean\")\n",
    "nz_merged.head()"
   ]
  },
  {
   "cell_type": "code",
   "execution_count": null,
   "id": "7210242c-13d1-4a2b-b1b0-3e67dc56b3f2",
   "metadata": {},
   "outputs": [],
   "source": [
    "fig, axs = plt.subplots(1,2, figsize=(9,9))\n",
    "nz.plot(ax=axs[0], edgecolor=\"dimgrey\", facecolor=\"whitesmoke\")\n",
    "nz_height.plot(ax=axs[0], marker = \"o\", markersize=100, alpha=0.6, column=\"elevation\", legend=True, scheme=\"FisherJenks\", cmap=\"magma_r\")\n",
    "axs[0].set_title(\"Elevation of High Points in New Zealand\", weight=\"bold\")\n",
    "axs[0].set_facecolor(\"powderblue\")\n",
    "nz.plot(ax=axs[1], edgecolor=\"dimgrey\", facecolor=\"whitesmoke\")\n",
    "nz_merged.plot(ax=axs[1], column=\"elevation\", edgecolor=\"dimgrey\", legend=True,  scheme=\"FisherJenks\", cmap=\"magma_r\")\n",
    "axs[1].set_title(\"Average elevation of High Points in New Zealand\", weight=\"bold\")\n",
    "axs[1].set_facecolor(\"powderblue\")\n",
    "plt.tight_layout()"
   ]
  },
  {
   "cell_type": "markdown",
   "id": "e05f50ac-1f40-457e-ba45-0006fea58209",
   "metadata": {},
   "source": [
    "### Centroids"
   ]
  },
  {
   "cell_type": "code",
   "execution_count": null,
   "id": "b81d0c18-3f78-4db9-af6d-51c15476df3a",
   "metadata": {},
   "outputs": [],
   "source": [
    "nz_centroid = nz.copy()\n",
    "nz_centroid[\"geometry\"] = nz.centroid\n",
    "nz_centroid.head()"
   ]
  },
  {
   "cell_type": "code",
   "execution_count": null,
   "id": "38131477-5c31-4895-ac4c-3e0cfae6d67b",
   "metadata": {},
   "outputs": [],
   "source": [
    "seine = gpd.read_file(\"./data-module-2/seine.shp\")\n",
    "seine_centroid = seine.copy()\n",
    "seine_centroid[\"geometry\"] = seine.centroid\n",
    "seine_centroid"
   ]
  },
  {
   "cell_type": "code",
   "execution_count": null,
   "id": "0ad78b37-2096-4d10-b5ae-ea727909998f",
   "metadata": {},
   "outputs": [],
   "source": [
    "fig, axs = plt.subplots(1,2, figsize=(18,9))\n",
    "nz.plot(ax=axs[0], column=\"Name\", cmap=\"Pastel1\")\n",
    "nz_centroid.plot(ax=axs[0], edgecolor=\"dimgrey\", column=\"Name\", cmap=\"Pastel1\")\n",
    "axs[0].set_title(\"New Zealand Regions with Centroids\", weight=\"bold\",  fontsize=15)\n",
    "axs[0].set_facecolor(\"powderblue\")\n",
    "\n",
    "seine.plot(ax=axs[1], column=\"name\", cmap=\"Accent\")\n",
    "seine_centroid.plot(ax=axs[1], edgecolor=\"dimgrey\", column=\"name\", cmap=\"Accent\", markersize=120)\n",
    "axs[1].set_title(\"Seine Tributaries with Centroids\", weight=\"bold\",  fontsize=15)\n",
    "axs[1].set_facecolor(\"ivory\")\n",
    "plt.tight_layout()"
   ]
  },
  {
   "cell_type": "markdown",
   "id": "3db86b6f-5617-4064-89f8-2c5c37a3aaa8",
   "metadata": {},
   "source": [
    "### Buffer"
   ]
  },
  {
   "cell_type": "code",
   "execution_count": null,
   "id": "04ba8833-95ce-4e72-a0a4-c1af135eb8e2",
   "metadata": {},
   "outputs": [],
   "source": [
    "nz_buffer = nz.copy()\n",
    "nz_buffer[\"geometry\"] = nz.buffer(50000)\n",
    "seine_buffer = seine.copy()\n",
    "seine_buffer[\"geometry\"] = seine.buffer(5000)"
   ]
  },
  {
   "cell_type": "code",
   "execution_count": null,
   "id": "3d5e271f-acc7-443f-ac1a-7236f78df3e0",
   "metadata": {},
   "outputs": [],
   "source": [
    "fig, axs = plt.subplots(1,2, figsize=(18,9))\n",
    "nz_buffer.plot(ax=axs[0], edgecolor=\"white\", column=\"Name\", cmap=\"Pastel1\", alpha=0.7)\n",
    "nz.plot(ax=axs[0], facecolor=\"none\", edgecolor=\"dimgrey\")\n",
    "axs[0].set_title(\"New Zealand Regions with 50km buffer\", weight=\"bold\", fontsize=15)\n",
    "axs[0].set_facecolor(\"powderblue\")\n",
    "\n",
    "seine_buffer.plot(ax=axs[1], edgecolor=\"dimgrey\", column=\"name\", cmap=\"Accent\")\n",
    "seine.plot(ax=axs[1], color=\"white\")\n",
    "axs[1].set_title(\"Seine Tributaries with 5km Buffer\", weight=\"bold\", fontsize=15)\n",
    "axs[1].set_facecolor(\"ivory\")\n",
    "plt.tight_layout()"
   ]
  },
  {
   "cell_type": "markdown",
   "id": "5f28c9d6-d714-4adf-9f1b-16b92e45a928",
   "metadata": {},
   "source": [
    "### Overlay to create new shapes"
   ]
  },
  {
   "cell_type": "code",
   "execution_count": null,
   "id": "8d771b69-6b95-430c-bae4-281feca3822d",
   "metadata": {},
   "outputs": [],
   "source": [
    "uganda =  world[(world.name_long == \"Uganda\")]\n",
    "lakes_gdf = gpd.read_file(\"./data-module-2/lakes.shp\")\n",
    "lake_segments = gpd.overlay(lakes_gdf, uganda)"
   ]
  },
  {
   "cell_type": "code",
   "execution_count": null,
   "id": "8246e982-5575-4ed4-8c63-e25aa7e24466",
   "metadata": {},
   "outputs": [],
   "source": [
    "lakes_inter = gpd.sjoin(lakes_gdf, uganda, predicate=\"intersects\")\n",
    "lakes_within = gpd.sjoin(lakes_gdf, uganda, predicate=\"within\")"
   ]
  },
  {
   "cell_type": "code",
   "execution_count": null,
   "id": "58f5eef4-8530-48d2-8962-df7f50eb33a1",
   "metadata": {},
   "outputs": [],
   "source": [
    "fig, axs = plt.subplots(2,2, figsize=(10,10))\n",
    "lakes_gdf.plot(ax=axs[0,0], facecolor=\"skyblue\", edgecolor=\"none\")\n",
    "uganda.plot(ax=axs[0,0], facecolor=\"none\", edgecolor=\"black\")\n",
    "axs[0,0].set_title(\"Lakes\", weight=\"bold\")\n",
    "lakes_gdf.plot(ax=axs[0,1], facecolor=\"skyblue\", edgecolor=\"none\")\n",
    "lakes_inter.plot(ax=axs[0,1], facecolor=\"red\", edgecolor=\"none\")\n",
    "uganda.plot(ax=axs[0,1], facecolor=\"none\", edgecolor=\"black\")\n",
    "axs[0,1].set_title(\"Lakes intersect\", weight=\"bold\")\n",
    "lakes_gdf.plot(ax=axs[1,0], facecolor=\"skyblue\", edgecolor=\"none\")\n",
    "lakes_within.plot(ax=axs[1,0], facecolor=\"red\", edgecolor=\"none\")\n",
    "uganda.plot(ax=axs[1,0], facecolor=\"none\", edgecolor=\"black\")\n",
    "axs[1,0].set_title(\"Lakes within\", weight=\"bold\")\n",
    "lakes_gdf.plot(ax=axs[1,1], facecolor=\"skyblue\", edgecolor=\"none\")\n",
    "lake_segments.plot(ax=axs[1,1], facecolor=\"red\", edgecolor=\"none\")\n",
    "uganda.plot(ax=axs[1,1], facecolor=\"none\", edgecolor=\"black\")\n",
    "axs[1,1].set_title(\"Lakes overlayed\", weight=\"bold\")"
   ]
  },
  {
   "cell_type": "markdown",
   "id": "69fe5cff-e429-4aa0-bd0f-6c445b053abc",
   "metadata": {},
   "source": [
    "## **Exercices**\n",
    "### Data\n",
    "- `gw_provinces_extra.shp` - Minnesota Groundwater Provinces shapefile;\n",
    "- `mn_rivers.shp` - Minnesota river shapefile;\n",
    "- `soil_samp.shp` - Soil temperature stations shapefile."
   ]
  },
  {
   "cell_type": "markdown",
   "id": "e86cdfda-e904-4258-865b-79af4ef7ee29",
   "metadata": {},
   "source": [
    "**Question 1. Find and plot all groundwater provinces in Minnesota that have `var1` equal to `\"a\"` and `var3` greater than 100.**"
   ]
  },
  {
   "cell_type": "code",
   "execution_count": null,
   "id": "c9682d02-cee2-439d-b75c-b6ed7269d375",
   "metadata": {},
   "outputs": [],
   "source": []
  },
  {
   "cell_type": "markdown",
   "id": "25c9f369-bf5e-43b2-b53c-48368c534adb",
   "metadata": {
    "jp-MarkdownHeadingCollapsed": true,
    "tags": []
   },
   "source": [
    "**Question 2. Create a simple `DataFrame` with the following code:**\n",
    "```r\n",
    "random.seed(0) \n",
    "data = {\"ProvID\": list(range(1,7)),\n",
    "        \"var4\":[\"yes\", \"no\", \"no\", \"yes\", \"np\", \"yes\"],\n",
    "        \"var5\": random.sample(range(10, 50), 6)}\n",
    "gw_prov_df = pd.DataFrame(data)\n",
    "```\n",
    "**Merge `gw_provinces_extra_gdf` with `gw_prov_df` into a new object called `gw_prov_stats`. Which columns were used as keys for join? Pay attention to the data type of these columns.**"
   ]
  },
  {
   "cell_type": "code",
   "execution_count": null,
   "id": "9fb6fc8d-f48a-4dae-9ca5-d406e3bca92e",
   "metadata": {},
   "outputs": [],
   "source": []
  },
  {
   "cell_type": "markdown",
   "id": "92624760-0ee4-4be6-ad8e-8f6fba93e212",
   "metadata": {},
   "source": [
    "**Question 3. Dissolve `var3` as `sum` by `var1`.**"
   ]
  },
  {
   "cell_type": "code",
   "execution_count": null,
   "id": "fb58cf16-a2ff-4baa-a0e5-fb49356cffc7",
   "metadata": {},
   "outputs": [],
   "source": []
  },
  {
   "cell_type": "markdown",
   "id": "72682cd4-50bc-4850-8215-bc9be358625b",
   "metadata": {},
   "source": [
    "**Question 4. Find and plot the rivers found (even partially) in groundwater PROVINCE 5.**"
   ]
  },
  {
   "cell_type": "code",
   "execution_count": null,
   "id": "f48121b1-1fd4-4104-a82a-2485c43794af",
   "metadata": {},
   "outputs": [],
   "source": []
  },
  {
   "cell_type": "markdown",
   "id": "d6d09df7-dcdb-4d81-9e65-aa0c6789c2de",
   "metadata": {},
   "source": [
    "**Question 5. Which groundwater province does the Lamberton (soil sample) site located in?**"
   ]
  },
  {
   "cell_type": "code",
   "execution_count": null,
   "id": "4c1d05cc-e429-494d-b54b-899fb8344d32",
   "metadata": {},
   "outputs": [],
   "source": []
  },
  {
   "cell_type": "markdown",
   "id": "1fd6f9dc-fd20-436d-8851-8c38248632b0",
   "metadata": {},
   "source": [
    "**Question 6. Find the soil sample sites that are within 10 km of the Mississippi river.**"
   ]
  },
  {
   "cell_type": "code",
   "execution_count": null,
   "id": "c60c6b1a-1741-4df3-b3bf-5b5f7707b5a6",
   "metadata": {},
   "outputs": [],
   "source": []
  },
  {
   "cell_type": "markdown",
   "id": "1f63a988-0818-41ff-b440-7d6011808266",
   "metadata": {},
   "source": [
    "**Question 7. Find 10-km buffer for Mississippi river, the centroid for Mississippi river, and Mississippi river segments overlap PROVINCE 4 (use `overlay` operation). Display results on a figure with 3 subplots.**"
   ]
  },
  {
   "cell_type": "code",
   "execution_count": null,
   "id": "a8e082dc-88df-4bf1-b182-9bc2936d1f05",
   "metadata": {},
   "outputs": [],
   "source": []
  }
 ],
 "metadata": {
  "kernelspec": {
   "display_name": "Python 3 (ipykernel)",
   "language": "python",
   "name": "python3"
  },
  "language_info": {
   "codemirror_mode": {
    "name": "ipython",
    "version": 3
   },
   "file_extension": ".py",
   "mimetype": "text/x-python",
   "name": "python",
   "nbconvert_exporter": "python",
   "pygments_lexer": "ipython3",
   "version": "3.9.12"
  }
 },
 "nbformat": 4,
 "nbformat_minor": 5
}
